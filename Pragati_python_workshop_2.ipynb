{
  "nbformat": 4,
  "nbformat_minor": 0,
  "metadata": {
    "colab": {
      "name": "Pragati python workshop_2.ipynb",
      "provenance": [],
      "private_outputs": true,
      "collapsed_sections": [],
      "authorship_tag": "ABX9TyPJMbmZ9kc0Zsz86fx/SjX9",
      "include_colab_link": true
    },
    "kernelspec": {
      "name": "python3",
      "display_name": "Python 3"
    }
  },
  "cells": [
    {
      "cell_type": "markdown",
      "metadata": {
        "id": "view-in-github",
        "colab_type": "text"
      },
      "source": [
        "<a href=\"https://colab.research.google.com/github/alvas-education-foundation/Pragati-m-k/blob/master/Pragati_python_workshop_2.ipynb\" target=\"_parent\"><img src=\"https://colab.research.google.com/assets/colab-badge.svg\" alt=\"Open In Colab\"/></a>"
      ]
    },
    {
      "cell_type": "code",
      "metadata": {
        "id": "J1jn1e6_HQA3",
        "colab_type": "code",
        "colab": {}
      },
      "source": [
        "#python program to create a list of tuples with the first element as a number and second element as the square of the number\n",
        "l_range=int(input(\"Enter the lower range:\"))\n",
        "u_range=int(input(\"Enter the upper range:\"))\n",
        "a=[(x,x**2) for x in range(l_range,u_range+1)]\n",
        "print(a)"
      ],
      "execution_count": null,
      "outputs": []
    },
    {
      "cell_type": "code",
      "metadata": {
        "id": "uIj_q066HgOp",
        "colab_type": "code",
        "colab": {}
      },
      "source": [
        " # Python program to sort a list of \n",
        "# tuples by the second Item using sort()  \n",
        "  \n",
        "# Function to sort hte list by second item of tuple \n",
        "def Sort_Tuple(tup):  \n",
        "  \n",
        "    # reverse = None (Sorts in Ascending order)  \n",
        "    # key is set to sort using second element of  \n",
        "    # sublist lambda has been used  \n",
        "    tup.sort(key = lambda x: x[1])  \n",
        "    return tup  \n",
        "  \n",
        "# Driver Code  \n",
        "tup = [('rishav', 10), ('akash', 5), ('ram', 20), ('gaurav', 15)]  \n",
        "  \n",
        "# printing the sorted list of tuples \n",
        "print(Sort_Tuple(tup))"
      ],
      "execution_count": null,
      "outputs": []
    },
    {
      "cell_type": "code",
      "metadata": {
        "id": "BOw8lrV9H_DE",
        "colab_type": "code",
        "colab": {}
      },
      "source": [
        " #python program to find the number of characters in a text fileimport collections\n",
        "import pprint\n",
        "file_input = input('File Name: ')\n",
        "with open(file_input, 'r') as info:\n",
        "  count = collections.Counter(info.read().upper())\n",
        "  value = pprint.pformat(count)\n",
        "print(value)"
      ],
      "execution_count": null,
      "outputs": []
    },
    {
      "cell_type": "code",
      "metadata": {
        "id": "c31LhxFIIIBg",
        "colab_type": "code",
        "colab": {}
      },
      "source": [
        "#program to convert number to words in python\n",
        "import inflect.\n",
        "p = inflect. engine()\n",
        "words = p. number_to_words(1234)\n",
        "# Prints “one thousand, two hundred and thirty-four”\n",
        "print(words)\n",
        "words = p. number_to_words(p. ordinal(1234))\n",
        "# Prints “one thousand, two hundred and thirty-forth”\n",
        "print(words)"
      ],
      "execution_count": null,
      "outputs": []
    }
  ]
}