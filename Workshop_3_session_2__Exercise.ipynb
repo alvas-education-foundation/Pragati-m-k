{
  "nbformat": 4,
  "nbformat_minor": 0,
  "metadata": {
    "colab": {
      "name": "Workshop-3_session-2_ Exercise.ipynb",
      "provenance": [],
      "collapsed_sections": [],
      "authorship_tag": "ABX9TyNGLDeW6ZId1Gb5KJ9q4ZCY",
      "include_colab_link": true
    },
    "kernelspec": {
      "name": "python3",
      "display_name": "Python 3"
    }
  },
  "cells": [
    {
      "cell_type": "markdown",
      "metadata": {
        "id": "view-in-github",
        "colab_type": "text"
      },
      "source": [
        "<a href=\"https://colab.research.google.com/github/alvas-education-foundation/Pragati-m-k/blob/master/Workshop_3_session_2__Exercise.ipynb\" target=\"_parent\"><img src=\"https://colab.research.google.com/assets/colab-badge.svg\" alt=\"Open In Colab\"/></a>"
      ]
    },
    {
      "cell_type": "markdown",
      "metadata": {
        "id": "_Aims3vWx1Tk",
        "colab_type": "text"
      },
      "source": [
        " Write a Python Program to Print Multiplication Table of a number which got through keyboard"
      ]
    },
    {
      "cell_type": "code",
      "metadata": {
        "id": "b-sK5Iuix8S0",
        "colab_type": "code",
        "colab": {
          "base_uri": "https://localhost:8080/",
          "height": 205
        },
        "outputId": "f325107f-3043-4f43-bd50-99938461bbd3"
      },
      "source": [
        " \n",
        "n = int(input('Enter a no: '))\n",
        "arr = [print(n,'x',x,'=',n*x) for x in range(1,11)]"
      ],
      "execution_count": null,
      "outputs": [
        {
          "output_type": "stream",
          "text": [
            "Enter a no: 23\n",
            "23 x 1 = 23\n",
            "23 x 2 = 46\n",
            "23 x 3 = 69\n",
            "23 x 4 = 92\n",
            "23 x 5 = 115\n",
            "23 x 6 = 138\n",
            "23 x 7 = 161\n",
            "23 x 8 = 184\n",
            "23 x 9 = 207\n",
            "23 x 10 = 230\n"
          ],
          "name": "stdout"
        }
      ]
    },
    {
      "cell_type": "markdown",
      "metadata": {
        "id": "Ezy_J7o0yJD3",
        "colab_type": "text"
      },
      "source": [
        " Write a Python Program to find the Armstrong Numbers between 1 and 2000 ( i.e 153 is amtrong numbers as 13+53+3**3=153 )"
      ]
    },
    {
      "cell_type": "code",
      "metadata": {
        "id": "0hazm9qByNhE",
        "colab_type": "code",
        "colab": {
          "base_uri": "https://localhost:8080/",
          "height": 54
        },
        "outputId": "be697a46-9242-443a-8563-3de11dd2e362"
      },
      "source": [
        " for x in range(1,2000):\n",
        "  i = str(x)\n",
        "  l = len(i)\n",
        "  ex = []\n",
        "  for y in range(l):\n",
        "    ex.append(i[y]+'**'+str(l))\n",
        "  if eval('+'.join(ex)) == x:\n",
        "    print(x,end = ' ')"
      ],
      "execution_count": null,
      "outputs": [
        {
          "output_type": "stream",
          "text": [
            "1 2 3 4 5 6 7 8 9 153 370 371 407 1634 "
          ],
          "name": "stdout"
        }
      ]
    },
    {
      "cell_type": "markdown",
      "metadata": {
        "id": "Oj0GpmnDyb61",
        "colab_type": "text"
      },
      "source": [
        " Write a python program to get the list of tuples (rollno, name) for n students by getting rollno and name through keyboard. Sort and print them as rollno wise and name wise both ascending and descending as well as alphabetical and dealphabetical orders"
      ]
    },
    {
      "cell_type": "code",
      "metadata": {
        "id": "T832F1sFydi7",
        "colab_type": "code",
        "colab": {
          "base_uri": "https://localhost:8080/",
          "height": 191
        },
        "outputId": "6871ef82-6cea-4866-f547-1a08c5d3d711"
      },
      "source": [
        " \n",
        "import operator\n",
        "arr = [(int(input('Enter rollno %d: '%(x))),input('Enter name %d: '%(x))) for x in range(1,int(input('Enter no of students: '))+1)]\n",
        "print('Student details based on rollno in ascending order',sorted(arr))\n",
        "print('Student details based on rollno in descending order',sorted(arr,reverse = True))\n",
        "print('Student details based on name in ascending order',sorted(arr,key = operator.itemgetter(1)))\n",
        "print('Student details based on name in descending order',sorted(arr,key = operator.itemgetter(1),reverse = True))"
      ],
      "execution_count": null,
      "outputs": [
        {
          "output_type": "stream",
          "text": [
            "Enter no of students: 2\n",
            "Enter rollno 1: 24\n",
            "Enter name 1: Mayur\n",
            "Enter rollno 2: 06\n",
            "Enter name 2: Manthan\n",
            "Student details based on rollno in ascending order [(6, 'Manthan'), (24, 'Mayur')]\n",
            "Student details based on rollno in descending order [(24, 'Mayur'), (6, 'Manthan')]\n",
            "Student details based on name in ascending order [(6, 'Manthan'), (24, 'Mayur')]\n",
            "Student details based on name in descending order [(24, 'Mayur'), (6, 'Manthan')]\n"
          ],
          "name": "stdout"
        }
      ]
    },
    {
      "cell_type": "markdown",
      "metadata": {
        "id": "zv4lDwwkyv1N",
        "colab_type": "text"
      },
      "source": [
        " Python Program to Detect if Two Strings are Anagrams ( They are the two strings which have same length and same words which may be different in their order)"
      ]
    },
    {
      "cell_type": "code",
      "metadata": {
        "id": "9eqEd_fEy1QF",
        "colab_type": "code",
        "colab": {
          "base_uri": "https://localhost:8080/",
          "height": 68
        },
        "outputId": "fb251a81-76bb-46f8-f8b3-e7a297c75fb2"
      },
      "source": [
        " \n",
        "s1 = input('Enter the 1st string: ')\n",
        "s2 = input('Enter the 2nd string: ')\n",
        "if len(s1) == len(s2) and sorted(set(s1)) == sorted(set(s2)):\n",
        "  print('Strings are Anagrams')\n",
        "else:\n",
        "  print('Strings are not Anagrams')"
      ],
      "execution_count": null,
      "outputs": [
        {
          "output_type": "stream",
          "text": [
            "Enter the 1st string: Aiet\n",
            "Enter the 2nd string: Aiet\n",
            "Strings are Anagrams\n"
          ],
          "name": "stdout"
        }
      ]
    }
  ]
}