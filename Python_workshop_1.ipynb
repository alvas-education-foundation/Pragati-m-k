{
  "nbformat": 4,
  "nbformat_minor": 0,
  "metadata": {
    "colab": {
      "name": "Python workshop_1.ipynb",
      "provenance": [],
      "collapsed_sections": [],
      "authorship_tag": "ABX9TyNfI3nJEho2pjz95F8KYpdK",
      "include_colab_link": true
    },
    "kernelspec": {
      "name": "python3",
      "display_name": "Python 3"
    }
  },
  "cells": [
    {
      "cell_type": "markdown",
      "metadata": {
        "id": "view-in-github",
        "colab_type": "text"
      },
      "source": [
        "<a href=\"https://colab.research.google.com/github/alvas-education-foundation/Pragati-m-k/blob/master/Python_workshop_1.ipynb\" target=\"_parent\"><img src=\"https://colab.research.google.com/assets/colab-badge.svg\" alt=\"Open In Colab\"/></a>"
      ]
    },
    {
      "cell_type": "code",
      "metadata": {
        "id": "azzbAurDz5jp",
        "colab_type": "code",
        "cellView": "both",
        "colab": {
          "base_uri": "https://localhost:8080/",
          "height": 85
        },
        "outputId": "5dfeb3c6-8ce6-4840-fe46-24094c254e7c"
      },
      "source": [
        "#@title\n",
        " \n",
        "#1. Find the compound interest for the given p,n,r  (formula : p(1+n*r/100)n )\n",
        "p=int(input('Enter the p value'))\n",
        "n=int(input('Enter the n value'))\n",
        "r=int(input('Enter the r value'))\n",
        "CI=p*(1+n*r/100)**n\n",
        "print(CI)"
      ],
      "execution_count": null,
      "outputs": [
        {
          "output_type": "stream",
          "text": [
            "Enter the p value1500\n",
            "Enter the n value6\n",
            "Enter the r value12\n",
            "38838.454573056\n"
          ],
          "name": "stdout"
        }
      ]
    },
    {
      "cell_type": "markdown",
      "metadata": {
        "id": "SY0tQF8Pdrye",
        "colab_type": "text"
      },
      "source": [
        ""
      ]
    },
    {
      "cell_type": "code",
      "metadata": {
        "id": "LyVHgWva2_GM",
        "colab_type": "code",
        "colab": {
          "base_uri": "https://localhost:8080/",
          "height": 51
        },
        "outputId": "2c90a6c0-6d22-4ff4-8396-59436ac69114"
      },
      "source": [
        " \n",
        "#2. Convert centegrade to farenheit  ( f= 9/5*c+32) \n",
        "c=float(input('Enter the of c'))\n",
        "f=float(9/5*c+32)\n",
        "print(f)"
      ],
      "execution_count": null,
      "outputs": [
        {
          "output_type": "stream",
          "text": [
            "Enter the of c75\n",
            "167.0\n"
          ],
          "name": "stdout"
        }
      ]
    },
    {
      "cell_type": "code",
      "metadata": {
        "id": "7G7jzsPW6A19",
        "colab_type": "code",
        "colab": {
          "base_uri": "https://localhost:8080/",
          "height": 68
        },
        "outputId": "fcb8fc8c-0c80-488d-b3b6-bb0486d813f3"
      },
      "source": [
        " #3. Find the greater of two nos \n",
        "a=int(input('Enter the a value'))\n",
        "b=int(input('Enter the b value'))\n",
        "if(a>>b):\n",
        "    print('{0} is greater than {1}'.format(a,b))\n",
        "else:\n",
        "    print('{0} is greater than {1}'.format(b,a))"
      ],
      "execution_count": null,
      "outputs": [
        {
          "output_type": "stream",
          "text": [
            "Enter the a value28\n",
            "Enter the b value37\n",
            "37 is greater than 28\n"
          ],
          "name": "stdout"
        }
      ]
    },
    {
      "cell_type": "code",
      "metadata": {
        "id": "9zmZdbww6ITa",
        "colab_type": "code",
        "colab": {
          "base_uri": "https://localhost:8080/",
          "height": 119
        },
        "outputId": "51a12540-f20d-4237-8494-33990112ecfe"
      },
      "source": [
        " \n",
        "#4. Write a program for finding surface areas of cylinder and cone (2*PI*r*h, 1/3*PI*r*r*h) using function.\n",
        "def cy(r,h):\n",
        "    return 2*3.14*r*h\n",
        " \n",
        "def co(r,h):\n",
        "    return 1/3*3.14*r*r*h\n",
        "r=int(input('Enter the r value'))\n",
        "h=int(input('Enter the h value'))\n",
        " \n",
        "print('surface area of cylinder is')\n",
        "print(cy(r,h))\n",
        " \n",
        "print('surface area of cone is')\n",
        "print(co(r,h))"
      ],
      "execution_count": null,
      "outputs": [
        {
          "output_type": "stream",
          "text": [
            "Enter the r value7\n",
            "Enter the h value14\n",
            "surface area of cylinder is\n",
            "615.44\n",
            "surface area of cone is\n",
            "718.0133333333333\n"
          ],
          "name": "stdout"
        }
      ]
    },
    {
      "cell_type": "code",
      "metadata": {
        "id": "5eJApW0G6fpf",
        "colab_type": "code",
        "colab": {
          "base_uri": "https://localhost:8080/",
          "height": 119
        },
        "outputId": "5acea1b9-7b50-4834-bc6c-a69bf96ec14e"
      },
      "source": [
        " #5. Find the greatest of four nos (using and operator)   using function.\n",
        "def great(a,b,c,d):\n",
        "    if(a>=b and a>=c and a>=d):\n",
        "        return a\n",
        "    elif(b>=a and b>=c and b>=d):\n",
        "        return b\n",
        "    elif(c>=a and c>=b and c>=d):\n",
        "        return c\n",
        "    else:\n",
        "        return d\n",
        "a=int(input('Enter the 1st name '))\n",
        "b=int(input('Enter the 2nd name '))\n",
        "c=int(input('Enter the 3rd name '))\n",
        "d=int(input('Enter the 4th name '))\n",
        "print('greater no is ')\n",
        "print(great(a,b,c,d))"
      ],
      "execution_count": null,
      "outputs": [
        {
          "output_type": "stream",
          "text": [
            "Enter the 1st name 7\n",
            "Enter the 2nd name 9\n",
            "Enter the 3rd name 5\n",
            "Enter the 4th name 3\n",
            "greater no is \n",
            "9\n"
          ],
          "name": "stdout"
        }
      ]
    },
    {
      "cell_type": "code",
      "metadata": {
        "id": "PFL-vJv_8QEE",
        "colab_type": "code",
        "colab": {
          "base_uri": "https://localhost:8080/",
          "height": 324
        },
        "outputId": "57913fdb-026f-42ab-b324-616ff81dfa4f"
      },
      "source": [
        " \n",
        "#6. Write a menu program to find Area-Circle, Circumference-Circle, Area- Square, Circumference-Square using functions with  menu choice\n",
        "loop =1\n",
        "choice =1\n",
        " \n",
        "def ac(r):\n",
        "    return 3.142*r*r\n",
        "def cc(r):\n",
        "    return 2*3.142*r\n",
        "def as1(r):\n",
        "    return r*r\n",
        "def sc1(r):\n",
        "    return 4*r \n",
        " \n",
        "while loop == 1:\n",
        "    # Print what options you have\n",
        " \n",
        "    print (\"your options are:\")\n",
        "    print (\" \")\n",
        "    print(\"1) Area of circle\")\n",
        "    print(\"2) circumference of a circle\")\n",
        "    print (\"3) Area of square\")\n",
        "    print (\"4) circ of square\")\n",
        "    print(\" \")\n",
        "    \n",
        "    choice = int(input(\"Choose your option: \"))\n",
        " \n",
        "    if choice == 1:\n",
        "        r = int(input(\"Enter r value: \"))\n",
        "        \n",
        "        print (ac(r))\n",
        "    elif choice == 2:\n",
        "        r = int(input(\"Enter r value: \"))\n",
        "        print (as1(r))\n",
        "        \n",
        "    elif choice == 3:\n",
        "        r = int(input(\"Enter r value: \"))\n",
        "        print (cc(r))\n",
        " \n",
        "    elif choice == 4:\n",
        "        r = int(input(\"Enter r value: \"))\n",
        "        print (sc1(r))\n",
        "    else:\n",
        "        loop = 0"
      ],
      "execution_count": null,
      "outputs": [
        {
          "output_type": "stream",
          "text": [
            "your options are:\n",
            " \n",
            "1) Area of circle\n",
            "2) circumference of a circle\n",
            "3) Area of square\n",
            "4) circ of square\n",
            " \n",
            "Choose your option: 3\n",
            "Enter r value: 24\n",
            "150.816\n",
            "your options are:\n",
            " \n",
            "1) Area of circle\n",
            "2) circumference of a circle\n",
            "3) Area of square\n",
            "4) circ of square\n",
            " \n",
            "Choose your option: 6\n"
          ],
          "name": "stdout"
        }
      ]
    },
    {
      "cell_type": "code",
      "metadata": {
        "id": "3luUu0a58gZe",
        "colab_type": "code",
        "colab": {
          "base_uri": "https://localhost:8080/",
          "height": 119
        },
        "outputId": "51ca785f-4a40-4416-c4ea-217a7db17384"
      },
      "source": [
        " \n",
        "rows = 5\n",
        "for i in range(0, rows + 1):\n",
        "    for j in range(rows - i, 0, -1):\n",
        "        print(j, end=' ')\n",
        "    print()"
      ],
      "execution_count": null,
      "outputs": [
        {
          "output_type": "stream",
          "text": [
            "5 4 3 2 1 \n",
            "4 3 2 1 \n",
            "3 2 1 \n",
            "2 1 \n",
            "1 \n",
            "\n"
          ],
          "name": "stdout"
        }
      ]
    },
    {
      "cell_type": "code",
      "metadata": {
        "id": "OMpOOwvp8mqj",
        "colab_type": "code",
        "colab": {
          "base_uri": "https://localhost:8080/",
          "height": 85
        },
        "outputId": "c4b6af5c-da71-4202-f590-164ef4a85c5a"
      },
      "source": [
        " \n",
        "rows = 4\n",
        "for i in range(0, rows):\n",
        "    for j in range(0, i + 1):\n",
        "        print(\"*\", end=' ')\n",
        " \n",
        "    print(\"\\r\")"
      ],
      "execution_count": null,
      "outputs": [
        {
          "output_type": "stream",
          "text": [
            "* \r\n",
            "* * \r\n",
            "* * * \r\n",
            "* * * * \r\n"
          ],
          "name": "stdout"
        }
      ]
    },
    {
      "cell_type": "code",
      "metadata": {
        "id": "Bf3UKyFq8uMF",
        "colab_type": "code",
        "colab": {
          "base_uri": "https://localhost:8080/",
          "height": 51
        },
        "outputId": "275d2c4c-528d-436e-ebe1-f84ce309554c"
      },
      "source": [
        " \n",
        "str = input(\"Enter a string: \")\n",
        "counter = 0\n",
        "for s in str:\n",
        "      counter = counter+1\n",
        "print(\"Length of the input string is:\", counter)"
      ],
      "execution_count": null,
      "outputs": [
        {
          "output_type": "stream",
          "text": [
            "Enter a string: Belgaum\n",
            "Length of the input string is: 7\n"
          ],
          "name": "stdout"
        }
      ]
    },
    {
      "cell_type": "code",
      "metadata": {
        "id": "3xT-568Z853R",
        "colab_type": "code",
        "colab": {
          "base_uri": "https://localhost:8080/",
          "height": 54
        },
        "outputId": "545c2a1c-9e39-410d-ffb2-e43b12e65967"
      },
      "source": [
        "#find the no of characters in string\n",
        "def char_frequency(str1):\n",
        "    dict = {}\n",
        "    for n in str1:\n",
        "        keys = dict.keys()\n",
        "        if n in keys:\n",
        "            dict[n] += 1\n",
        "        else:\n",
        "            dict[n] = 1\n",
        "    return dict\n",
        "print(char_frequency('google.com'))"
      ],
      "execution_count": null,
      "outputs": [
        {
          "output_type": "stream",
          "text": [
            "{'g': 2, 'o': 3, 'l': 1, 'e': 1, '.': 1, 'c': 1, 'm': 1}\n"
          ],
          "name": "stdout"
        }
      ]
    },
    {
      "cell_type": "code",
      "metadata": {
        "id": "ZATEF56-9T0K",
        "colab_type": "code",
        "colab": {
          "base_uri": "https://localhost:8080/",
          "height": 54
        },
        "outputId": "8d8b2a57-9da2-4034-cd66-6278728e2135"
      },
      "source": [
        "#no of occurances\n",
        " \n",
        "def word_count(str):\n",
        "    counts = dict()\n",
        "    words = str.split()\n",
        " \n",
        "    for word in words:\n",
        "        if word in counts:\n",
        "            counts[word] += 1\n",
        "        else:\n",
        "            counts[word] = 1\n",
        " \n",
        "    return counts\n",
        " \n",
        "print( word_count('the quick brown fox jumps over the lazy dog.'))"
      ],
      "execution_count": null,
      "outputs": [
        {
          "output_type": "stream",
          "text": [
            "{'the': 2, 'quick': 1, 'brown': 1, 'fox': 1, 'jumps': 1, 'over': 1, 'lazy': 1, 'dog.': 1}\n"
          ],
          "name": "stdout"
        }
      ]
    }
  ]
}